{
 "cells": [
  {
   "cell_type": "code",
   "execution_count": 5,
   "id": "4c7a0ef9-4c7c-4f5a-9322-fe38e7e63079",
   "metadata": {},
   "outputs": [],
   "source": [
    "import cv2\n",
    "import matplotlib.pyplot as plt\n",
    "img = cv2.imread('test2.jpg')\n",
    "cv2.imshow('original', img)\n",
    "cv2.waitKey(0)  \n",
    "cv2.destroyAllWindows()"
   ]
  },
  {
   "cell_type": "code",
   "execution_count": 9,
   "id": "04e42e61-6fce-4bfe-bd91-2e347ccaa3b3",
   "metadata": {},
   "outputs": [],
   "source": [
    "import cv2\n",
    "\n",
    "# Read the image\n",
    "image = cv2.imread('test2.jpg')\n",
    "\n",
    "# Convert the image to RGB\n",
    "image_rgb = cv2.cvtColor(image, cv2.COLOR_RGB2BGR)\n",
    "\n",
    "# Display the image\n",
    "cv2.imshow('RGB Image', image_rgb)\n",
    "cv2.imshow('original image', image)\n",
    "cv2.waitKey(0)\n",
    "cv2.destroyAllWindows()\n"
   ]
  },
  {
   "cell_type": "code",
   "execution_count": 15,
   "id": "dbf4eb53-6a40-49dd-8948-62838c029e0a",
   "metadata": {},
   "outputs": [],
   "source": [
    "import cv2\n",
    "import numpy as np\n",
    "\n",
    "# Read the image\n",
    "image = cv2.imread('test2.jpg')\n",
    "\n",
    "# Normalize the RGB values to the range [0, 1]\n",
    "image_normalized = image / 255.0\n",
    "\n",
    "# Convert RGB to CMY\n",
    "image_cmy = 1 - image_normalized\n",
    "\n",
    "# Convert back to the range [0, 255]\n",
    "image_cmy = (image_cmy * 255).astype(np.uint8)\n",
    "\n",
    "# Display the CMY image\n",
    "cv2.imshow('RGB Image', image)\n",
    "cv2.imshow('CMY Image', image_cmy)\n",
    "cv2.waitKey(0)\n",
    "cv2.destroyAllWindows()\n"
   ]
  },
  {
   "cell_type": "code",
   "execution_count": 18,
   "id": "0a04fc26-0064-4b79-bef8-a8b30fea999f",
   "metadata": {},
   "outputs": [],
   "source": [
    "import cv2\n",
    "import numpy as np\n",
    "\n",
    "# Read the image\n",
    "image = cv2.imread('test2.jpg')\n",
    "\n",
    "\n",
    "\n",
    "# Convert RGB to CMY\n",
    "image_cmy = 255 - image\n",
    "\n",
    "\n",
    "\n",
    "# Display the CMY image\n",
    "cv2.imshow('RGB Image', image)\n",
    "cv2.imshow('CMY Image', image_cmy)\n",
    "cv2.waitKey(0)\n",
    "cv2.destroyAllWindows()\n"
   ]
  },
  {
   "cell_type": "code",
   "execution_count": 7,
   "id": "a200b4d4-e50f-4b2d-8ab8-db5d8e54d2a1",
   "metadata": {},
   "outputs": [],
   "source": [
    "import cv2\n",
    "import numpy as np\n",
    "\n",
    "# Read the image\n",
    "image = cv2.imread('test2.jpg')\n",
    "image_hsv = cv2.cvtColor(image, cv2.COLOR_RGB2HSV)\n",
    "cv2.imshow('Hsv_image', image_hsv)\n",
    "cv2.imshow('Original Image', image)\n",
    "cv2.waitKey(0)\n",
    "cv2.destroyAllWindows()"
   ]
  },
  {
   "cell_type": "code",
   "execution_count": 3,
   "id": "bfaeb36b-62fd-4e14-810b-557b9abb31d5",
   "metadata": {},
   "outputs": [
    {
     "data": {
      "image/png": "[encoded data removed]",
      "text/plain": [
       "<Figure size 640x480 with 1 Axes>"
      ]
     },
     "metadata": {},
     "output_type": "display_data"
    }
   ],
   "source": [
    "import cv2\n",
    "import numpy as np\n",
    "from sklearn.cluster import KMeans\n",
    "import matplotlib.pyplot as plt\n",
    "\n",
    "def find_dominant_colors(image_path, k=3):\n",
    "    \n",
    "    image = cv2.imread(image_path)\n",
    "    image = cv2.cvtColor(image, cv2.COLOR_BGR2RGB)\n",
    "\n",
    "    pixels = image.reshape((-1, 3))\n",
    "\n",
    "\n",
    "    kmeans = KMeans(n_clusters=k)\n",
    "    kmeans.fit(pixels)\n",
    "\n",
    "    \n",
    "    dominant_colors = kmeans.cluster_centers_.astype(int)\n",
    "\n",
    "    return dominant_colors\n",
    "\n",
    "def plot_colors(colors):\n",
    "\n",
    "    square_size = 100\n",
    "    color_squares = np.zeros((square_size, square_size * len(colors), 3), dtype=int)\n",
    "\n",
    "    for i, color in enumerate(colors):\n",
    "        color_squares[:, i * square_size:(i + 1) * square_size] = color\n",
    "\n",
    "    plt.imshow(color_squares)\n",
    "    plt.axis('off')\n",
    "    plt.show()\n",
    "\n",
    "\n",
    "image_path = 'test2.jpg'\n",
    "\n",
    "dominant_colors = find_dominant_colors(image_path, k=5)\n",
    "plot_colors(dominant_colors)\n"
   ]
  },
  {
   "cell_type": "code",
   "execution_count": 5,
   "id": "90724cd1-2b30-4f79-907a-a2800376ef30",
   "metadata": {},
   "outputs": [],
   "source": [
    "import cv2\n",
    "import numpy as np\n",
    "\n",
    "# Read the image\n",
    "image = cv2.imread('sample.jpg')\n",
    "\n",
    "# Create a red tint overlay\n",
    "red_tint = np.full_like(image, (0, 0, 255))\n",
    "\n",
    "# Blend the original image with the red tint overlay\n",
    "tinted_image = cv2.addWeighted(image, 0.7, red_tint, 0.3, 0)\n",
    "\n",
    "# Display the tinted image\n",
    "cv2.imshow('Red Tinted Image', tinted_image)\n",
    "cv2.waitKey(0)\n",
    "cv2.destroyAllWindows()\n"
   ]
  },
  {
   "cell_type": "code",
   "execution_count": 6,
   "id": "85658726-bb2c-4f9d-8d21-9ddfd8b22cce",
   "metadata": {},
   "outputs": [],
   "source": [
    "import cv2\n",
    "import numpy as np\n",
    "\n",
    "# Read the image\n",
    "image = cv2.imread('test2.jpg')\n",
    "\n",
    "# Create a red tint overlay with higher intensity\n",
    "red_tint = np.full_like(image, (0, 0, 255))\n",
    "\n",
    "# Blend the original image with the red tint overlay\n",
    "tinted_image = cv2.addWeighted(image, 0.5, red_tint, 0.5, 0)\n",
    "\n",
    "# Convert the image to grayscale\n",
    "gray_image = cv2.cvtColor(tinted_image, cv2.COLOR_BGR2GRAY)\n",
    "\n",
    "# Apply a binary threshold to create a mask\n",
    "_, mask = cv2.threshold(gray_image, 100, 255, cv2.THRESH_BINARY)\n",
    "\n",
    "# Create an output image with only red, white, and black\n",
    "output_image = np.zeros_like(image)\n",
    "output_image[mask == 255] = [0, 0, 255]  # Red\n",
    "output_image[mask == 0] = [0, 0, 0]      # Black\n",
    "\n",
    "# Display the output image\n",
    "cv2.imshow('Red, White, and Black Image', output_image)\n",
    "cv2.waitKey(0)\n",
    "cv2.destroyAllWindows()\n"
   ]
  },
  {
   "cell_type": "code",
   "execution_count": null,
   "id": "f707bddb-ad62-4fb7-8668-3504d1244423",
   "metadata": {},
   "outputs": [],
   "source": [
    "import cv2\n",
    "import numpy as np\n",
    "\n",
    "# Read the image\n",
    "image = cv2.imread('test2.jpg')\n",
    "\n",
    "# Create a copy of the image to modify\n",
    "red_only_image = image.copy()\n",
    "\n",
    "# Set the green and blue channels to 0\n",
    "red_only_image[:, :, 1] = 0  # Green channel\n",
    "red_only_image[:, :, 2] = 0  # Blue channel\n",
    "\n",
    "# Display the modified image\n",
    "cv2.imshow('Red Only Image', red_only_image)\n",
    "cv2.waitKey(0)\n",
    "cv2.destroyAllWindows()\n"
   ]
  },
  {
   "cell_type": "code",
   "execution_count": null,
   "id": "7c14d9a2-5ce2-49c5-a7cf-8a8fee3d4765",
   "metadata": {},
   "outputs": [],
   "source": []
  }
 ],
 "metadata": {
  "kernelspec": {
   "display_name": "Python 3 (ipykernel)",
   "language": "python",
   "name": "python3"
  },
  "language_info": {
   "codemirror_mode": {
    "name": "ipython",
    "version": 3
   },
   "file_extension": ".py",
   "mimetype": "text/x-python",
   "name": "python",
   "nbconvert_exporter": "python",
   "pygments_lexer": "ipython3",
   "version": "3.9.21"
  }
 },
 "nbformat": 4,
 "nbformat_minor": 5
}
